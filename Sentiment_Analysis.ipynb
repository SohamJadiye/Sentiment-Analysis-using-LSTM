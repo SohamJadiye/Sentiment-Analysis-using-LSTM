{
  "nbformat": 4,
  "nbformat_minor": 0,
  "metadata": {
    "colab": {
      "provenance": [],
      "gpuType": "T4"
    },
    "kernelspec": {
      "name": "python3",
      "display_name": "Python 3"
    },
    "language_info": {
      "name": "python"
    },
    "accelerator": "GPU"
  },
  "cells": [
    {
      "cell_type": "code",
      "execution_count": 1,
      "metadata": {
        "id": "PVfW_nRCf7bp"
      },
      "outputs": [],
      "source": [
        "! pip install -q kaggle"
      ]
    },
    {
      "cell_type": "code",
      "source": [
        "from google.colab import files\n",
        "files.upload()"
      ],
      "metadata": {
        "colab": {
          "base_uri": "https://localhost:8080/",
          "height": 107
        },
        "id": "Z6YGMJTJhKQd",
        "outputId": "c1614286-8514-4925-ffba-0f185711f36f"
      },
      "execution_count": 2,
      "outputs": [
        {
          "output_type": "display_data",
          "data": {
            "text/plain": [
              "<IPython.core.display.HTML object>"
            ],
            "text/html": [
              "\n",
              "     <input type=\"file\" id=\"files-fa85bad3-ff5c-4187-85cb-869c2abc417e\" name=\"files[]\" multiple disabled\n",
              "        style=\"border:none\" />\n",
              "     <output id=\"result-fa85bad3-ff5c-4187-85cb-869c2abc417e\">\n",
              "      Upload widget is only available when the cell has been executed in the\n",
              "      current browser session. Please rerun this cell to enable.\n",
              "      </output>\n",
              "      <script>// Copyright 2017 Google LLC\n",
              "//\n",
              "// Licensed under the Apache License, Version 2.0 (the \"License\");\n",
              "// you may not use this file except in compliance with the License.\n",
              "// You may obtain a copy of the License at\n",
              "//\n",
              "//      http://www.apache.org/licenses/LICENSE-2.0\n",
              "//\n",
              "// Unless required by applicable law or agreed to in writing, software\n",
              "// distributed under the License is distributed on an \"AS IS\" BASIS,\n",
              "// WITHOUT WARRANTIES OR CONDITIONS OF ANY KIND, either express or implied.\n",
              "// See the License for the specific language governing permissions and\n",
              "// limitations under the License.\n",
              "\n",
              "/**\n",
              " * @fileoverview Helpers for google.colab Python module.\n",
              " */\n",
              "(function(scope) {\n",
              "function span(text, styleAttributes = {}) {\n",
              "  const element = document.createElement('span');\n",
              "  element.textContent = text;\n",
              "  for (const key of Object.keys(styleAttributes)) {\n",
              "    element.style[key] = styleAttributes[key];\n",
              "  }\n",
              "  return element;\n",
              "}\n",
              "\n",
              "// Max number of bytes which will be uploaded at a time.\n",
              "const MAX_PAYLOAD_SIZE = 100 * 1024;\n",
              "\n",
              "function _uploadFiles(inputId, outputId) {\n",
              "  const steps = uploadFilesStep(inputId, outputId);\n",
              "  const outputElement = document.getElementById(outputId);\n",
              "  // Cache steps on the outputElement to make it available for the next call\n",
              "  // to uploadFilesContinue from Python.\n",
              "  outputElement.steps = steps;\n",
              "\n",
              "  return _uploadFilesContinue(outputId);\n",
              "}\n",
              "\n",
              "// This is roughly an async generator (not supported in the browser yet),\n",
              "// where there are multiple asynchronous steps and the Python side is going\n",
              "// to poll for completion of each step.\n",
              "// This uses a Promise to block the python side on completion of each step,\n",
              "// then passes the result of the previous step as the input to the next step.\n",
              "function _uploadFilesContinue(outputId) {\n",
              "  const outputElement = document.getElementById(outputId);\n",
              "  const steps = outputElement.steps;\n",
              "\n",
              "  const next = steps.next(outputElement.lastPromiseValue);\n",
              "  return Promise.resolve(next.value.promise).then((value) => {\n",
              "    // Cache the last promise value to make it available to the next\n",
              "    // step of the generator.\n",
              "    outputElement.lastPromiseValue = value;\n",
              "    return next.value.response;\n",
              "  });\n",
              "}\n",
              "\n",
              "/**\n",
              " * Generator function which is called between each async step of the upload\n",
              " * process.\n",
              " * @param {string} inputId Element ID of the input file picker element.\n",
              " * @param {string} outputId Element ID of the output display.\n",
              " * @return {!Iterable<!Object>} Iterable of next steps.\n",
              " */\n",
              "function* uploadFilesStep(inputId, outputId) {\n",
              "  const inputElement = document.getElementById(inputId);\n",
              "  inputElement.disabled = false;\n",
              "\n",
              "  const outputElement = document.getElementById(outputId);\n",
              "  outputElement.innerHTML = '';\n",
              "\n",
              "  const pickedPromise = new Promise((resolve) => {\n",
              "    inputElement.addEventListener('change', (e) => {\n",
              "      resolve(e.target.files);\n",
              "    });\n",
              "  });\n",
              "\n",
              "  const cancel = document.createElement('button');\n",
              "  inputElement.parentElement.appendChild(cancel);\n",
              "  cancel.textContent = 'Cancel upload';\n",
              "  const cancelPromise = new Promise((resolve) => {\n",
              "    cancel.onclick = () => {\n",
              "      resolve(null);\n",
              "    };\n",
              "  });\n",
              "\n",
              "  // Wait for the user to pick the files.\n",
              "  const files = yield {\n",
              "    promise: Promise.race([pickedPromise, cancelPromise]),\n",
              "    response: {\n",
              "      action: 'starting',\n",
              "    }\n",
              "  };\n",
              "\n",
              "  cancel.remove();\n",
              "\n",
              "  // Disable the input element since further picks are not allowed.\n",
              "  inputElement.disabled = true;\n",
              "\n",
              "  if (!files) {\n",
              "    return {\n",
              "      response: {\n",
              "        action: 'complete',\n",
              "      }\n",
              "    };\n",
              "  }\n",
              "\n",
              "  for (const file of files) {\n",
              "    const li = document.createElement('li');\n",
              "    li.append(span(file.name, {fontWeight: 'bold'}));\n",
              "    li.append(span(\n",
              "        `(${file.type || 'n/a'}) - ${file.size} bytes, ` +\n",
              "        `last modified: ${\n",
              "            file.lastModifiedDate ? file.lastModifiedDate.toLocaleDateString() :\n",
              "                                    'n/a'} - `));\n",
              "    const percent = span('0% done');\n",
              "    li.appendChild(percent);\n",
              "\n",
              "    outputElement.appendChild(li);\n",
              "\n",
              "    const fileDataPromise = new Promise((resolve) => {\n",
              "      const reader = new FileReader();\n",
              "      reader.onload = (e) => {\n",
              "        resolve(e.target.result);\n",
              "      };\n",
              "      reader.readAsArrayBuffer(file);\n",
              "    });\n",
              "    // Wait for the data to be ready.\n",
              "    let fileData = yield {\n",
              "      promise: fileDataPromise,\n",
              "      response: {\n",
              "        action: 'continue',\n",
              "      }\n",
              "    };\n",
              "\n",
              "    // Use a chunked sending to avoid message size limits. See b/62115660.\n",
              "    let position = 0;\n",
              "    do {\n",
              "      const length = Math.min(fileData.byteLength - position, MAX_PAYLOAD_SIZE);\n",
              "      const chunk = new Uint8Array(fileData, position, length);\n",
              "      position += length;\n",
              "\n",
              "      const base64 = btoa(String.fromCharCode.apply(null, chunk));\n",
              "      yield {\n",
              "        response: {\n",
              "          action: 'append',\n",
              "          file: file.name,\n",
              "          data: base64,\n",
              "        },\n",
              "      };\n",
              "\n",
              "      let percentDone = fileData.byteLength === 0 ?\n",
              "          100 :\n",
              "          Math.round((position / fileData.byteLength) * 100);\n",
              "      percent.textContent = `${percentDone}% done`;\n",
              "\n",
              "    } while (position < fileData.byteLength);\n",
              "  }\n",
              "\n",
              "  // All done.\n",
              "  yield {\n",
              "    response: {\n",
              "      action: 'complete',\n",
              "    }\n",
              "  };\n",
              "}\n",
              "\n",
              "scope.google = scope.google || {};\n",
              "scope.google.colab = scope.google.colab || {};\n",
              "scope.google.colab._files = {\n",
              "  _uploadFiles,\n",
              "  _uploadFilesContinue,\n",
              "};\n",
              "})(self);\n",
              "</script> "
            ]
          },
          "metadata": {}
        },
        {
          "output_type": "stream",
          "name": "stdout",
          "text": [
            "Saving kaggle.json to kaggle.json\n"
          ]
        },
        {
          "output_type": "execute_result",
          "data": {
            "text/plain": [
              "{'kaggle.json': b'{\"username\":\"sohamjadiye\",\"key\":\"2c8283fc5d29cc30347b9776e59e53bc\"}'}"
            ]
          },
          "metadata": {},
          "execution_count": 2
        }
      ]
    },
    {
      "cell_type": "code",
      "source": [
        "! mkdir ~/.kaggle"
      ],
      "metadata": {
        "id": "zeCNRjZHhZTn"
      },
      "execution_count": 3,
      "outputs": []
    },
    {
      "cell_type": "code",
      "source": [
        "! cp kaggle.json ~/.kaggle/\n"
      ],
      "metadata": {
        "id": "XZSQvs3zhbJx"
      },
      "execution_count": 4,
      "outputs": []
    },
    {
      "cell_type": "code",
      "source": [
        "! chmod 600 ~/.kaggle/kaggle.json"
      ],
      "metadata": {
        "id": "_8ed54I3he2u"
      },
      "execution_count": 5,
      "outputs": []
    },
    {
      "cell_type": "code",
      "source": [
        "!kaggle datasets download -d lakshmi25npathi/imdb-dataset-of-50k-movie-reviews"
      ],
      "metadata": {
        "colab": {
          "base_uri": "https://localhost:8080/"
        },
        "id": "ejHywQNvhlJp",
        "outputId": "06601520-494f-4254-addc-969c14273822"
      },
      "execution_count": 6,
      "outputs": [
        {
          "output_type": "stream",
          "name": "stdout",
          "text": [
            "Downloading imdb-dataset-of-50k-movie-reviews.zip to /content\n",
            "\r  0% 0.00/25.7M [00:00<?, ?B/s]\r 89% 23.0M/25.7M [00:00<00:00, 241MB/s]\n",
            "\r100% 25.7M/25.7M [00:00<00:00, 249MB/s]\n"
          ]
        }
      ]
    },
    {
      "cell_type": "code",
      "source": [
        "import re\n",
        "import numpy as np\n",
        "import pandas as pd\n",
        "import tensorflow as tf\n",
        "import matplotlib.pyplot as plt\n",
        "from tensorflow.keras.preprocessing.text import Tokenizer\n",
        "from tensorflow.keras.preprocessing.sequence import pad_sequences\n",
        "from tensorflow.keras.models import Sequential\n",
        "from tensorflow.keras.optimizers import Adam\n",
        "from tensorflow.keras.layers import Embedding,Bidirectional,LSTM,Dense,Dropout,BatchNormalization\n",
        "from sklearn.model_selection import train_test_split"
      ],
      "metadata": {
        "id": "t_kpewoniM4D"
      },
      "execution_count": 7,
      "outputs": []
    },
    {
      "cell_type": "code",
      "source": [
        "!unzip imdb-dataset-of-50k-movie-reviews.zip"
      ],
      "metadata": {
        "colab": {
          "base_uri": "https://localhost:8080/"
        },
        "id": "w_3qRbOmiPxt",
        "outputId": "3d91b818-a6e5-4b8f-bfd4-321cf36862b3"
      },
      "execution_count": 8,
      "outputs": [
        {
          "output_type": "stream",
          "name": "stdout",
          "text": [
            "Archive:  imdb-dataset-of-50k-movie-reviews.zip\n",
            "  inflating: IMDB Dataset.csv        \n"
          ]
        }
      ]
    },
    {
      "cell_type": "code",
      "source": [
        "df = pd.read_csv(\"IMDB Dataset.csv\")"
      ],
      "metadata": {
        "id": "yyzNyqTHigW2"
      },
      "execution_count": 9,
      "outputs": []
    },
    {
      "cell_type": "code",
      "source": [
        "df.head()"
      ],
      "metadata": {
        "colab": {
          "base_uri": "https://localhost:8080/",
          "height": 206
        },
        "id": "6l5moPZQikR1",
        "outputId": "1844c6a9-e72c-48c2-c230-941dd9581f89"
      },
      "execution_count": 10,
      "outputs": [
        {
          "output_type": "execute_result",
          "data": {
            "text/plain": [
              "                                              review sentiment\n",
              "0  One of the other reviewers has mentioned that ...  positive\n",
              "1  A wonderful little production. <br /><br />The...  positive\n",
              "2  I thought this was a wonderful way to spend ti...  positive\n",
              "3  Basically there's a family where a little boy ...  negative\n",
              "4  Petter Mattei's \"Love in the Time of Money\" is...  positive"
            ],
            "text/html": [
              "\n",
              "  <div id=\"df-3fe1027c-7b1a-4266-a220-1b8b0c001e8d\" class=\"colab-df-container\">\n",
              "    <div>\n",
              "<style scoped>\n",
              "    .dataframe tbody tr th:only-of-type {\n",
              "        vertical-align: middle;\n",
              "    }\n",
              "\n",
              "    .dataframe tbody tr th {\n",
              "        vertical-align: top;\n",
              "    }\n",
              "\n",
              "    .dataframe thead th {\n",
              "        text-align: right;\n",
              "    }\n",
              "</style>\n",
              "<table border=\"1\" class=\"dataframe\">\n",
              "  <thead>\n",
              "    <tr style=\"text-align: right;\">\n",
              "      <th></th>\n",
              "      <th>review</th>\n",
              "      <th>sentiment</th>\n",
              "    </tr>\n",
              "  </thead>\n",
              "  <tbody>\n",
              "    <tr>\n",
              "      <th>0</th>\n",
              "      <td>One of the other reviewers has mentioned that ...</td>\n",
              "      <td>positive</td>\n",
              "    </tr>\n",
              "    <tr>\n",
              "      <th>1</th>\n",
              "      <td>A wonderful little production. &lt;br /&gt;&lt;br /&gt;The...</td>\n",
              "      <td>positive</td>\n",
              "    </tr>\n",
              "    <tr>\n",
              "      <th>2</th>\n",
              "      <td>I thought this was a wonderful way to spend ti...</td>\n",
              "      <td>positive</td>\n",
              "    </tr>\n",
              "    <tr>\n",
              "      <th>3</th>\n",
              "      <td>Basically there's a family where a little boy ...</td>\n",
              "      <td>negative</td>\n",
              "    </tr>\n",
              "    <tr>\n",
              "      <th>4</th>\n",
              "      <td>Petter Mattei's \"Love in the Time of Money\" is...</td>\n",
              "      <td>positive</td>\n",
              "    </tr>\n",
              "  </tbody>\n",
              "</table>\n",
              "</div>\n",
              "    <div class=\"colab-df-buttons\">\n",
              "\n",
              "  <div class=\"colab-df-container\">\n",
              "    <button class=\"colab-df-convert\" onclick=\"convertToInteractive('df-3fe1027c-7b1a-4266-a220-1b8b0c001e8d')\"\n",
              "            title=\"Convert this dataframe to an interactive table.\"\n",
              "            style=\"display:none;\">\n",
              "\n",
              "  <svg xmlns=\"http://www.w3.org/2000/svg\" height=\"24px\" viewBox=\"0 -960 960 960\">\n",
              "    <path d=\"M120-120v-720h720v720H120Zm60-500h600v-160H180v160Zm220 220h160v-160H400v160Zm0 220h160v-160H400v160ZM180-400h160v-160H180v160Zm440 0h160v-160H620v160ZM180-180h160v-160H180v160Zm440 0h160v-160H620v160Z\"/>\n",
              "  </svg>\n",
              "    </button>\n",
              "\n",
              "  <style>\n",
              "    .colab-df-container {\n",
              "      display:flex;\n",
              "      gap: 12px;\n",
              "    }\n",
              "\n",
              "    .colab-df-convert {\n",
              "      background-color: #E8F0FE;\n",
              "      border: none;\n",
              "      border-radius: 50%;\n",
              "      cursor: pointer;\n",
              "      display: none;\n",
              "      fill: #1967D2;\n",
              "      height: 32px;\n",
              "      padding: 0 0 0 0;\n",
              "      width: 32px;\n",
              "    }\n",
              "\n",
              "    .colab-df-convert:hover {\n",
              "      background-color: #E2EBFA;\n",
              "      box-shadow: 0px 1px 2px rgba(60, 64, 67, 0.3), 0px 1px 3px 1px rgba(60, 64, 67, 0.15);\n",
              "      fill: #174EA6;\n",
              "    }\n",
              "\n",
              "    .colab-df-buttons div {\n",
              "      margin-bottom: 4px;\n",
              "    }\n",
              "\n",
              "    [theme=dark] .colab-df-convert {\n",
              "      background-color: #3B4455;\n",
              "      fill: #D2E3FC;\n",
              "    }\n",
              "\n",
              "    [theme=dark] .colab-df-convert:hover {\n",
              "      background-color: #434B5C;\n",
              "      box-shadow: 0px 1px 3px 1px rgba(0, 0, 0, 0.15);\n",
              "      filter: drop-shadow(0px 1px 2px rgba(0, 0, 0, 0.3));\n",
              "      fill: #FFFFFF;\n",
              "    }\n",
              "  </style>\n",
              "\n",
              "    <script>\n",
              "      const buttonEl =\n",
              "        document.querySelector('#df-3fe1027c-7b1a-4266-a220-1b8b0c001e8d button.colab-df-convert');\n",
              "      buttonEl.style.display =\n",
              "        google.colab.kernel.accessAllowed ? 'block' : 'none';\n",
              "\n",
              "      async function convertToInteractive(key) {\n",
              "        const element = document.querySelector('#df-3fe1027c-7b1a-4266-a220-1b8b0c001e8d');\n",
              "        const dataTable =\n",
              "          await google.colab.kernel.invokeFunction('convertToInteractive',\n",
              "                                                    [key], {});\n",
              "        if (!dataTable) return;\n",
              "\n",
              "        const docLinkHtml = 'Like what you see? Visit the ' +\n",
              "          '<a target=\"_blank\" href=https://colab.research.google.com/notebooks/data_table.ipynb>data table notebook</a>'\n",
              "          + ' to learn more about interactive tables.';\n",
              "        element.innerHTML = '';\n",
              "        dataTable['output_type'] = 'display_data';\n",
              "        await google.colab.output.renderOutput(dataTable, element);\n",
              "        const docLink = document.createElement('div');\n",
              "        docLink.innerHTML = docLinkHtml;\n",
              "        element.appendChild(docLink);\n",
              "      }\n",
              "    </script>\n",
              "  </div>\n",
              "\n",
              "\n",
              "<div id=\"df-990eebca-a5e5-494b-9903-64cb30ecc578\">\n",
              "  <button class=\"colab-df-quickchart\" onclick=\"quickchart('df-990eebca-a5e5-494b-9903-64cb30ecc578')\"\n",
              "            title=\"Suggest charts\"\n",
              "            style=\"display:none;\">\n",
              "\n",
              "<svg xmlns=\"http://www.w3.org/2000/svg\" height=\"24px\"viewBox=\"0 0 24 24\"\n",
              "     width=\"24px\">\n",
              "    <g>\n",
              "        <path d=\"M19 3H5c-1.1 0-2 .9-2 2v14c0 1.1.9 2 2 2h14c1.1 0 2-.9 2-2V5c0-1.1-.9-2-2-2zM9 17H7v-7h2v7zm4 0h-2V7h2v10zm4 0h-2v-4h2v4z\"/>\n",
              "    </g>\n",
              "</svg>\n",
              "  </button>\n",
              "\n",
              "<style>\n",
              "  .colab-df-quickchart {\n",
              "      --bg-color: #E8F0FE;\n",
              "      --fill-color: #1967D2;\n",
              "      --hover-bg-color: #E2EBFA;\n",
              "      --hover-fill-color: #174EA6;\n",
              "      --disabled-fill-color: #AAA;\n",
              "      --disabled-bg-color: #DDD;\n",
              "  }\n",
              "\n",
              "  [theme=dark] .colab-df-quickchart {\n",
              "      --bg-color: #3B4455;\n",
              "      --fill-color: #D2E3FC;\n",
              "      --hover-bg-color: #434B5C;\n",
              "      --hover-fill-color: #FFFFFF;\n",
              "      --disabled-bg-color: #3B4455;\n",
              "      --disabled-fill-color: #666;\n",
              "  }\n",
              "\n",
              "  .colab-df-quickchart {\n",
              "    background-color: var(--bg-color);\n",
              "    border: none;\n",
              "    border-radius: 50%;\n",
              "    cursor: pointer;\n",
              "    display: none;\n",
              "    fill: var(--fill-color);\n",
              "    height: 32px;\n",
              "    padding: 0;\n",
              "    width: 32px;\n",
              "  }\n",
              "\n",
              "  .colab-df-quickchart:hover {\n",
              "    background-color: var(--hover-bg-color);\n",
              "    box-shadow: 0 1px 2px rgba(60, 64, 67, 0.3), 0 1px 3px 1px rgba(60, 64, 67, 0.15);\n",
              "    fill: var(--button-hover-fill-color);\n",
              "  }\n",
              "\n",
              "  .colab-df-quickchart-complete:disabled,\n",
              "  .colab-df-quickchart-complete:disabled:hover {\n",
              "    background-color: var(--disabled-bg-color);\n",
              "    fill: var(--disabled-fill-color);\n",
              "    box-shadow: none;\n",
              "  }\n",
              "\n",
              "  .colab-df-spinner {\n",
              "    border: 2px solid var(--fill-color);\n",
              "    border-color: transparent;\n",
              "    border-bottom-color: var(--fill-color);\n",
              "    animation:\n",
              "      spin 1s steps(1) infinite;\n",
              "  }\n",
              "\n",
              "  @keyframes spin {\n",
              "    0% {\n",
              "      border-color: transparent;\n",
              "      border-bottom-color: var(--fill-color);\n",
              "      border-left-color: var(--fill-color);\n",
              "    }\n",
              "    20% {\n",
              "      border-color: transparent;\n",
              "      border-left-color: var(--fill-color);\n",
              "      border-top-color: var(--fill-color);\n",
              "    }\n",
              "    30% {\n",
              "      border-color: transparent;\n",
              "      border-left-color: var(--fill-color);\n",
              "      border-top-color: var(--fill-color);\n",
              "      border-right-color: var(--fill-color);\n",
              "    }\n",
              "    40% {\n",
              "      border-color: transparent;\n",
              "      border-right-color: var(--fill-color);\n",
              "      border-top-color: var(--fill-color);\n",
              "    }\n",
              "    60% {\n",
              "      border-color: transparent;\n",
              "      border-right-color: var(--fill-color);\n",
              "    }\n",
              "    80% {\n",
              "      border-color: transparent;\n",
              "      border-right-color: var(--fill-color);\n",
              "      border-bottom-color: var(--fill-color);\n",
              "    }\n",
              "    90% {\n",
              "      border-color: transparent;\n",
              "      border-bottom-color: var(--fill-color);\n",
              "    }\n",
              "  }\n",
              "</style>\n",
              "\n",
              "  <script>\n",
              "    async function quickchart(key) {\n",
              "      const quickchartButtonEl =\n",
              "        document.querySelector('#' + key + ' button');\n",
              "      quickchartButtonEl.disabled = true;  // To prevent multiple clicks.\n",
              "      quickchartButtonEl.classList.add('colab-df-spinner');\n",
              "      try {\n",
              "        const charts = await google.colab.kernel.invokeFunction(\n",
              "            'suggestCharts', [key], {});\n",
              "      } catch (error) {\n",
              "        console.error('Error during call to suggestCharts:', error);\n",
              "      }\n",
              "      quickchartButtonEl.classList.remove('colab-df-spinner');\n",
              "      quickchartButtonEl.classList.add('colab-df-quickchart-complete');\n",
              "    }\n",
              "    (() => {\n",
              "      let quickchartButtonEl =\n",
              "        document.querySelector('#df-990eebca-a5e5-494b-9903-64cb30ecc578 button');\n",
              "      quickchartButtonEl.style.display =\n",
              "        google.colab.kernel.accessAllowed ? 'block' : 'none';\n",
              "    })();\n",
              "  </script>\n",
              "</div>\n",
              "    </div>\n",
              "  </div>\n"
            ]
          },
          "metadata": {},
          "execution_count": 10
        }
      ]
    },
    {
      "cell_type": "code",
      "source": [
        "sentences = df['review']\n",
        "labels = df['sentiment'].map({'negative': 0, 'positive': 1})"
      ],
      "metadata": {
        "id": "L-CiSMrmilYX"
      },
      "execution_count": 11,
      "outputs": []
    },
    {
      "cell_type": "code",
      "source": [
        "labels"
      ],
      "metadata": {
        "colab": {
          "base_uri": "https://localhost:8080/"
        },
        "id": "FibcsnQxiuW-",
        "outputId": "cf695e78-f79e-4726-cc54-734253df5107"
      },
      "execution_count": 12,
      "outputs": [
        {
          "output_type": "execute_result",
          "data": {
            "text/plain": [
              "0        1\n",
              "1        1\n",
              "2        1\n",
              "3        0\n",
              "4        1\n",
              "        ..\n",
              "49995    1\n",
              "49996    0\n",
              "49997    0\n",
              "49998    0\n",
              "49999    0\n",
              "Name: sentiment, Length: 50000, dtype: int64"
            ]
          },
          "metadata": {},
          "execution_count": 12
        }
      ]
    },
    {
      "cell_type": "code",
      "source": [
        "X_train, X_test, y_train, y_test = train_test_split(np.array(sentences), np.array(labels), train_size=0.8, random_state=42)"
      ],
      "metadata": {
        "id": "mrzNGny4iw1C"
      },
      "execution_count": 13,
      "outputs": []
    },
    {
      "cell_type": "code",
      "source": [
        "print(f'X train Shape : {X_train.shape}')\n",
        "print(f'y train Shape : {y_train.shape}')\n",
        "print()\n",
        "print(f'X test Shape : {X_test.shape}')\n",
        "print(f'y test Shape : {y_test.shape}')"
      ],
      "metadata": {
        "colab": {
          "base_uri": "https://localhost:8080/"
        },
        "id": "WTxxu0y-i01F",
        "outputId": "44fb68d9-c473-4adc-ea88-e7ea727b9da7"
      },
      "execution_count": 14,
      "outputs": [
        {
          "output_type": "stream",
          "name": "stdout",
          "text": [
            "X train Shape : (40000,)\n",
            "y train Shape : (40000,)\n",
            "\n",
            "X test Shape : (10000,)\n",
            "y test Shape : (10000,)\n"
          ]
        }
      ]
    },
    {
      "cell_type": "code",
      "source": [
        "total_words = 1000\n",
        "max_length = 120"
      ],
      "metadata": {
        "id": "tbPqWC_Zi7YU"
      },
      "execution_count": 15,
      "outputs": []
    },
    {
      "cell_type": "code",
      "source": [
        "tokenizer = Tokenizer(num_words=total_words,oov_token='<OOV>')\n",
        "tokenizer.fit_on_texts(X_train)"
      ],
      "metadata": {
        "id": "IU1zjoSTi-tU"
      },
      "execution_count": 16,
      "outputs": []
    },
    {
      "cell_type": "code",
      "source": [
        "len(tokenizer.word_index)"
      ],
      "metadata": {
        "colab": {
          "base_uri": "https://localhost:8080/"
        },
        "id": "LRYB8bUqjJMG",
        "outputId": "1100cf3a-baa4-4460-9c34-595f861b6948"
      },
      "execution_count": 17,
      "outputs": [
        {
          "output_type": "execute_result",
          "data": {
            "text/plain": [
              "112281"
            ]
          },
          "metadata": {},
          "execution_count": 17
        }
      ]
    },
    {
      "cell_type": "code",
      "source": [
        "train_seq = tokenizer.texts_to_sequences(X_train)\n",
        "train_padd = pad_sequences(train_seq,maxlen=max_length,truncating='post')"
      ],
      "metadata": {
        "id": "vF7dpYhHjJSL"
      },
      "execution_count": 18,
      "outputs": []
    },
    {
      "cell_type": "code",
      "source": [
        "test_seq = tokenizer.texts_to_sequences(X_test)\n",
        "test_padd = pad_sequences(test_seq,maxlen=max_length,truncating='post')"
      ],
      "metadata": {
        "id": "bils_KiMkwcG"
      },
      "execution_count": 19,
      "outputs": []
    },
    {
      "cell_type": "code",
      "source": [
        "max_seq_len = max([len(x) for x in train_seq])\n",
        "max_seq_len"
      ],
      "metadata": {
        "colab": {
          "base_uri": "https://localhost:8080/"
        },
        "id": "VgvciWUhkyxe",
        "outputId": "f29d0dd3-2f3e-4b02-b312-b0bbb58c6480"
      },
      "execution_count": 20,
      "outputs": [
        {
          "output_type": "execute_result",
          "data": {
            "text/plain": [
              "2493"
            ]
          },
          "metadata": {},
          "execution_count": 20
        }
      ]
    },
    {
      "cell_type": "code",
      "source": [
        "index = 5\n",
        "print(f'Text :\\n{X_train[index]}\\n\\n')\n",
        "print(f'Sequence :\\n{train_seq[index]}\\n\\n')\n",
        "print(f'Padded Sequence :\\n{train_padd[index]}\\n\\n')"
      ],
      "metadata": {
        "colab": {
          "base_uri": "https://localhost:8080/"
        },
        "id": "8JzRt6K9ky7j",
        "outputId": "4cc515a5-964d-415a-924a-b78c58f7075d"
      },
      "execution_count": 21,
      "outputs": [
        {
          "output_type": "stream",
          "name": "stdout",
          "text": [
            "Text :\n",
            "I don't know how this movie received so many positive reviews on this site! I'm a big vonnegut fan and am very familiar with the story this Showtime original film bastardized beyond belief, but even if I wasn't, the poor acting, VERY poor casting (Sean Astin as the brilliant, athletic, and all around individual, Harrison?? The guy's completely generic!) and sub-standard writing rendered this tripe barely watchable. Someone pointed out how cute that Maculay Culkin line was. If you read that and thought that was pure comic brilliance (sadly, it probably was the most INTENTIONALLY funny part of the movie), maybe you'll like this movie. But if you're a Vonnegut fan or not completely insane, don't see it. Please.\n",
            "\n",
            "\n",
            "Sequence :\n",
            "[11, 90, 119, 87, 12, 18, 1, 35, 108, 1, 826, 21, 12, 1, 145, 4, 194, 1, 324, 3, 236, 52, 1, 17, 2, 63, 12, 1, 210, 20, 1, 667, 1, 19, 58, 44, 11, 292, 2, 334, 113, 52, 334, 1, 1, 1, 15, 2, 512, 1, 3, 30, 184, 1, 1, 2, 1, 338, 1, 3, 1, 1, 487, 1, 12, 1, 1, 1, 296, 1, 42, 87, 1, 13, 1, 1, 350, 14, 44, 23, 340, 13, 3, 188, 13, 14, 1, 758, 1, 1, 10, 238, 14, 2, 89, 1, 155, 174, 5, 2, 18, 273, 467, 38, 12, 18, 19, 44, 339, 4, 1, 324, 39, 22, 338, 1, 90, 65, 10, 591]\n",
            "\n",
            "\n",
            "Padded Sequence :\n",
            "[ 11  90 119  87  12  18   1  35 108   1 826  21  12   1 145   4 194   1\n",
            " 324   3 236  52   1  17   2  63  12   1 210  20   1 667   1  19  58  44\n",
            "  11 292   2 334 113  52 334   1   1   1  15   2 512   1   3  30 184   1\n",
            "   1   2   1 338   1   3   1   1 487   1  12   1   1   1 296   1  42  87\n",
            "   1  13   1   1 350  14  44  23 340  13   3 188  13  14   1 758   1   1\n",
            "  10 238  14   2  89   1 155 174   5   2  18 273 467  38  12  18  19  44\n",
            " 339   4   1 324  39  22 338   1  90  65  10 591]\n",
            "\n",
            "\n"
          ]
        }
      ]
    },
    {
      "cell_type": "code",
      "source": [
        "index = 5\n",
        "print(f'Text :\\n{X_test[index]}\\n\\n')\n",
        "print(f'Sequence :\\n{test_seq[index]}\\n\\n')\n",
        "print(f'Padded Sequence :\\n{test_padd[index]}\\n\\n')"
      ],
      "metadata": {
        "colab": {
          "base_uri": "https://localhost:8080/"
        },
        "id": "DEA_AcC-lDVo",
        "outputId": "3957b18e-e5dc-4375-c1d3-78e4aba8fdbf"
      },
      "execution_count": 22,
      "outputs": [
        {
          "output_type": "stream",
          "name": "stdout",
          "text": [
            "Text :\n",
            "I've watched this movie on a fairly regular basis for most of my life, and it never gets old. For all the snide remarks and insults (mostly from David Spade), \"Tommy Boy\" has a giant heart. And that's what keeps this movie funny after all these years.<br /><br />Tommy Callahan (Chris Farley) is the son of Big Tom Callahan (Brian Dennehy), master car parts salesman, and has ridden on that all his life. But after his died dies on his wedding day, Tommy learns that the company is in debt, and about to be bought by Ray Zalinsky (Dan Akroyd), the owner of a huge car parts company. So in order to save the company, Tommy has to go on the road to sell the company's new brake pads. Along for the ride, though not by choice, is Richard Hayden (David Spade) a former classmate of Tommy's who was Big Tom's right-hand man.<br /><br />The movie rides on the chemistry between the two SNL stars (and real-life best friends) Chris Farley and David Spade. The duo has enough comic energy going between them to power the world. It's the big, dumb guy versus the smart little guy. It works, and some of their scenes are unforgettably funny. Farley and Spade are actually decent dramatic actors as well. Although the film is primarily a comedy, it has its fair share of drama, but Spade and especially Farley are just as good there as when they're making the audience laugh.<br /><br />Forgive me, but I have to talk about Chris Farley a little more. I read his biography (\"The Chris Farley Show: A Biography in Three Acts,\" for anyone who cares), and understanding who Chris was in real life made this movie more special to me. Chris Farley was a genuinely good person who struggled, and ultimately failed to conquer his addictions. Although this was the first movie he had a major role in, it is his best film. It really showed who he was, and just how much talent he had. Knowing Chris's story adds another layer to this movie, although it doesn't make it any less funny.<br /><br />Farley and Spade are matched with a good on screen cast. Rob Lowe is suitably slimy as Tommy's \"new brother,\" and Bo Derek is solid as his step-mother. Brian Dennehy is great as Big Tom. Dennehy makes it easy to believe that they're father in son. Big Tom is just as crazy as his son, although he's smarter and more mature. Dan Akroyd gives one of his best performances as Zalinsky, giving Tommy the hard truth behind advertising. Julie Warner is also good as Tommy's love interest, Michelle.<br /><br />For me, Peter Segal is one of the great comedy directors. He keeps the pace quick and energetic, but most importantly, he knows how to make comedy funny. He doesn't belabor the jokes, and he understands that funny actors know what they're doing and he allows them to do it. But Segal goes a step further. He gives \"Tommy Boy\" a friendly, almost nostalgic tone that both tugs the heartstrings (genuinely) and tickles the funnybone.<br /><br />Critics didn't like \"Tommy Boy.\" Shame on them. A movie doesn't have to be super sophisticated or subversively intellectual to be funny (God forbid Farley and Spade were forced to do muted comedy a la \"The Office\"). This is a great movie and one of my all-time favorites.\n",
            "\n",
            "\n",
            "Sequence :\n",
            "[199, 285, 12, 18, 21, 4, 998, 1, 1, 16, 89, 5, 57, 115, 3, 10, 112, 218, 157, 16, 30, 2, 1, 1, 3, 1, 682, 36, 617, 1, 1, 419, 46, 4, 1, 488, 3, 198, 49, 954, 12, 18, 155, 101, 30, 133, 153, 8, 8, 1, 1, 1, 1, 7, 2, 495, 5, 194, 865, 1, 1, 1, 1, 524, 525, 1, 3, 46, 1, 21, 13, 30, 25, 115, 19, 101, 25, 1, 1, 21, 25, 1, 256, 1, 1, 13, 2, 1, 7, 9, 1, 3, 43, 6, 27, 1, 32, 1, 1, 1, 1, 2, 1, 5, 4, 638, 524, 525, 1, 35, 9, 629, 6, 586, 2, 1, 1, 46, 6, 140, 21, 2, 1, 6, 1, 2, 1, 170, 1, 1, 342, 16, 2, 1, 151, 22, 32, 1, 7, 824, 1, 617, 1, 4, 1, 1, 5, 1, 37, 14, 194, 1, 204, 522, 130, 8, 8, 2, 18, 1, 21, 2, 1, 207, 2, 107, 1, 400, 3, 144, 115, 116, 351, 1, 1, 3, 617, 1, 2, 1, 46, 193, 758, 1, 165, 207, 93, 6, 661, 2, 180, 45, 2, 194, 942, 225, 1, 2, 1, 120, 225, 10, 506, 3, 48, 5, 66, 135, 24, 1, 155, 1, 3, 1, 24, 159, 536, 993, 152, 15, 70, 257, 2, 20, 7, 1, 4, 209, 10, 46, 95, 1, 1, 5, 453, 19, 1, 3, 264, 1, 24, 40, 15, 50, 47, 15, 53, 513, 232, 2, 311, 426, 8, 8, 1, 69, 19, 11, 26, 6, 706, 43, 1, 1, 4, 120, 51, 11, 340, 25, 1, 2, 1, 1, 121, 4, 1, 9, 281, 1, 16, 250, 37, 1, 3, 1, 37, 1, 14, 9, 144, 115, 91, 12, 18, 51, 299, 6, 69, 1, 1, 14, 4, 1, 50, 402, 37, 1, 3, 1, 1, 6, 1, 25, 1, 257, 12, 14, 2, 86, 18, 29, 67, 4, 665, 217, 9, 10, 7, 25, 116, 20, 10, 64, 1, 37, 29, 14, 3, 40, 87, 74, 624, 29, 67, 1, 1, 63, 1, 158, 1, 6, 12, 18, 257, 10, 150, 94, 10, 100, 346, 155, 8, 8, 1, 3, 1, 24, 1, 17, 4, 50, 21, 262, 175, 1, 1, 7, 1, 1, 15, 1, 170, 616, 3, 1, 1, 7, 1, 15, 25, 1, 413, 1, 1, 7, 79, 15, 194, 865, 1, 162, 10, 768, 6, 261, 13, 513, 354, 9, 495, 194, 865, 7, 40, 15, 997, 15, 25, 495, 257, 241, 1, 3, 51, 1, 1, 1, 410, 28, 5, 25, 116, 366, 15, 1, 740, 1, 2, 248, 875, 508, 1, 1, 1, 7, 80, 50, 15, 1, 114, 611, 1, 8, 8, 16, 69, 843, 1, 7, 28, 5, 2, 79, 209, 1, 29, 954, 2, 1, 1, 3, 1, 19, 89, 1, 29, 693, 87, 6, 94, 209, 155, 29, 150, 1, 2, 619, 3, 29, 1, 13, 155, 152, 119, 49, 513, 408, 3, 29, 1, 93, 6, 77, 10, 19, 1, 272, 4, 1, 1, 29, 410, 1, 419, 4, 1, 215, 1, 1, 13, 196, 1, 2, 1, 1, 3, 1, 2, 1, 8, 8, 1, 154, 38, 1, 419, 860, 21, 93, 4, 18, 150, 26, 6, 27, 1, 1, 39, 1, 1, 6, 27, 155, 551, 1, 1, 3, 1, 71, 881, 6, 77, 1, 209, 4, 1, 2, 1, 12, 7, 4, 79, 18, 3, 28, 5, 57, 30, 56, 1]\n",
            "\n",
            "\n",
            "Padded Sequence :\n",
            "[199 285  12  18  21   4 998   1   1  16  89   5  57 115   3  10 112 218\n",
            " 157  16  30   2   1   1   3   1 682  36 617   1   1 419  46   4   1 488\n",
            "   3 198  49 954  12  18 155 101  30 133 153   8   8   1   1   1   1   7\n",
            "   2 495   5 194 865   1   1   1   1 524 525   1   3  46   1  21  13  30\n",
            "  25 115  19 101  25   1   1  21  25   1 256   1   1  13   2   1   7   9\n",
            "   1   3  43   6  27   1  32   1   1   1   1   2   1   5   4 638 524 525\n",
            "   1  35   9 629   6 586   2   1   1  46   6 140]\n",
            "\n",
            "\n"
          ]
        }
      ]
    },
    {
      "cell_type": "code",
      "source": [
        "embedding_dim = 16\n",
        "model = Sequential([\n",
        "        Embedding(total_words,embedding_dim,input_length=max_length),\n",
        "        Bidirectional(LSTM(64,return_sequences=True)),\n",
        "        Bidirectional(LSTM(32)),\n",
        "\n",
        "        Dense(6,activation='relu'),\n",
        "        Dense(1,activation='sigmoid')\n",
        "])"
      ],
      "metadata": {
        "id": "jtRZLW2IlGfP"
      },
      "execution_count": 23,
      "outputs": []
    },
    {
      "cell_type": "code",
      "source": [
        "model.summary()"
      ],
      "metadata": {
        "colab": {
          "base_uri": "https://localhost:8080/"
        },
        "id": "FpNp8lyJlOZ8",
        "outputId": "0f5f53e2-9b2c-4273-e615-8112f59e09bc"
      },
      "execution_count": 24,
      "outputs": [
        {
          "output_type": "stream",
          "name": "stdout",
          "text": [
            "Model: \"sequential\"\n",
            "_________________________________________________________________\n",
            " Layer (type)                Output Shape              Param #   \n",
            "=================================================================\n",
            " embedding (Embedding)       (None, 120, 16)           16000     \n",
            "                                                                 \n",
            " bidirectional (Bidirection  (None, 120, 128)          41472     \n",
            " al)                                                             \n",
            "                                                                 \n",
            " bidirectional_1 (Bidirecti  (None, 64)                41216     \n",
            " onal)                                                           \n",
            "                                                                 \n",
            " dense (Dense)               (None, 6)                 390       \n",
            "                                                                 \n",
            " dense_1 (Dense)             (None, 1)                 7         \n",
            "                                                                 \n",
            "=================================================================\n",
            "Total params: 99085 (387.05 KB)\n",
            "Trainable params: 99085 (387.05 KB)\n",
            "Non-trainable params: 0 (0.00 Byte)\n",
            "_________________________________________________________________\n"
          ]
        }
      ]
    },
    {
      "cell_type": "code",
      "source": [
        "from tensorflow.keras.callbacks import ModelCheckpoint , ReduceLROnPlateau ,EarlyStopping\n",
        "callbacks = [\n",
        "            EarlyStopping(patience = 10, verbose=1),\n",
        "            ReduceLROnPlateau(factor = 0.5, patience = 3, min_lr = 0.000001, verbose=1),\n",
        "            ModelCheckpoint('model.h5', monitor='val_loss', save_best_only=True,\n",
        "            verbose=1)\n",
        "\n",
        "    ]"
      ],
      "metadata": {
        "id": "Ziz6HbAHlS7b"
      },
      "execution_count": 25,
      "outputs": []
    },
    {
      "cell_type": "code",
      "source": [
        "model.compile(optimizer=Adam(0.001),loss='binary_crossentropy',metrics=['accuracy'])"
      ],
      "metadata": {
        "id": "R25Bj2COlT95"
      },
      "execution_count": 26,
      "outputs": []
    },
    {
      "cell_type": "code",
      "source": [
        "history = model.fit(train_padd,y_train,epochs=20,validation_data=(test_padd,y_test),callbacks=[callbacks])"
      ],
      "metadata": {
        "colab": {
          "base_uri": "https://localhost:8080/"
        },
        "id": "QpNDezhwlVoV",
        "outputId": "fb299464-8570-4931-f81f-c04a3ae12072"
      },
      "execution_count": 27,
      "outputs": [
        {
          "output_type": "stream",
          "name": "stdout",
          "text": [
            "Epoch 1/20\n",
            "1250/1250 [==============================] - ETA: 0s - loss: 0.5449 - accuracy: 0.7125\n",
            "Epoch 1: val_loss improved from inf to 0.42374, saving model to model.h5\n",
            "1250/1250 [==============================] - 57s 36ms/step - loss: 0.5449 - accuracy: 0.7125 - val_loss: 0.4237 - val_accuracy: 0.8046 - lr: 0.0010\n",
            "Epoch 2/20\n",
            "   3/1250 [..............................] - ETA: 37s - loss: 0.4581 - accuracy: 0.7917"
          ]
        },
        {
          "output_type": "stream",
          "name": "stderr",
          "text": [
            "/usr/local/lib/python3.10/dist-packages/keras/src/engine/training.py:3079: UserWarning: You are saving your model as an HDF5 file via `model.save()`. This file format is considered legacy. We recommend using instead the native Keras format, e.g. `model.save('my_model.keras')`.\n",
            "  saving_api.save_model(\n"
          ]
        },
        {
          "output_type": "stream",
          "name": "stdout",
          "text": [
            "1250/1250 [==============================] - ETA: 0s - loss: 0.4283 - accuracy: 0.8019\n",
            "Epoch 2: val_loss improved from 0.42374 to 0.41478, saving model to model.h5\n",
            "1250/1250 [==============================] - 28s 23ms/step - loss: 0.4283 - accuracy: 0.8019 - val_loss: 0.4148 - val_accuracy: 0.8108 - lr: 0.0010\n",
            "Epoch 3/20\n",
            "1248/1250 [============================>.] - ETA: 0s - loss: 0.5273 - accuracy: 0.7362\n",
            "Epoch 3: val_loss did not improve from 0.41478\n",
            "1250/1250 [==============================] - 26s 21ms/step - loss: 0.5273 - accuracy: 0.7362 - val_loss: 0.4459 - val_accuracy: 0.7961 - lr: 0.0010\n",
            "Epoch 4/20\n",
            "1250/1250 [==============================] - ETA: 0s - loss: 0.4248 - accuracy: 0.8056\n",
            "Epoch 4: val_loss improved from 0.41478 to 0.40900, saving model to model.h5\n",
            "1250/1250 [==============================] - 26s 21ms/step - loss: 0.4248 - accuracy: 0.8056 - val_loss: 0.4090 - val_accuracy: 0.8121 - lr: 0.0010\n",
            "Epoch 5/20\n",
            "1248/1250 [============================>.] - ETA: 0s - loss: 0.4016 - accuracy: 0.8182\n",
            "Epoch 5: val_loss improved from 0.40900 to 0.40288, saving model to model.h5\n",
            "1250/1250 [==============================] - 27s 22ms/step - loss: 0.4016 - accuracy: 0.8182 - val_loss: 0.4029 - val_accuracy: 0.8133 - lr: 0.0010\n",
            "Epoch 6/20\n",
            "1248/1250 [============================>.] - ETA: 0s - loss: 0.3853 - accuracy: 0.8250\n",
            "Epoch 6: val_loss improved from 0.40288 to 0.38527, saving model to model.h5\n",
            "1250/1250 [==============================] - 27s 22ms/step - loss: 0.3853 - accuracy: 0.8250 - val_loss: 0.3853 - val_accuracy: 0.8224 - lr: 0.0010\n",
            "Epoch 7/20\n",
            "1248/1250 [============================>.] - ETA: 0s - loss: 0.3691 - accuracy: 0.8342\n",
            "Epoch 7: val_loss improved from 0.38527 to 0.37015, saving model to model.h5\n",
            "1250/1250 [==============================] - 27s 22ms/step - loss: 0.3690 - accuracy: 0.8342 - val_loss: 0.3701 - val_accuracy: 0.8301 - lr: 0.0010\n",
            "Epoch 8/20\n",
            "1248/1250 [============================>.] - ETA: 0s - loss: 0.3552 - accuracy: 0.8410\n",
            "Epoch 8: val_loss did not improve from 0.37015\n",
            "1250/1250 [==============================] - 27s 22ms/step - loss: 0.3553 - accuracy: 0.8410 - val_loss: 0.3737 - val_accuracy: 0.8293 - lr: 0.0010\n",
            "Epoch 9/20\n",
            "1250/1250 [==============================] - ETA: 0s - loss: 0.3448 - accuracy: 0.8465\n",
            "Epoch 9: val_loss did not improve from 0.37015\n",
            "1250/1250 [==============================] - 27s 22ms/step - loss: 0.3448 - accuracy: 0.8465 - val_loss: 0.3722 - val_accuracy: 0.8290 - lr: 0.0010\n",
            "Epoch 10/20\n",
            "1249/1250 [============================>.] - ETA: 0s - loss: 0.3351 - accuracy: 0.8515\n",
            "Epoch 10: ReduceLROnPlateau reducing learning rate to 0.0005000000237487257.\n",
            "\n",
            "Epoch 10: val_loss did not improve from 0.37015\n",
            "1250/1250 [==============================] - 27s 22ms/step - loss: 0.3350 - accuracy: 0.8515 - val_loss: 0.3848 - val_accuracy: 0.8291 - lr: 0.0010\n",
            "Epoch 11/20\n",
            "1250/1250 [==============================] - ETA: 0s - loss: 0.3186 - accuracy: 0.8610\n",
            "Epoch 11: val_loss did not improve from 0.37015\n",
            "1250/1250 [==============================] - 27s 21ms/step - loss: 0.3186 - accuracy: 0.8610 - val_loss: 0.3726 - val_accuracy: 0.8297 - lr: 5.0000e-04\n",
            "Epoch 12/20\n",
            "1250/1250 [==============================] - ETA: 0s - loss: 0.3142 - accuracy: 0.8628\n",
            "Epoch 12: val_loss did not improve from 0.37015\n",
            "1250/1250 [==============================] - 27s 21ms/step - loss: 0.3142 - accuracy: 0.8628 - val_loss: 0.3807 - val_accuracy: 0.8280 - lr: 5.0000e-04\n",
            "Epoch 13/20\n",
            "1248/1250 [============================>.] - ETA: 0s - loss: 0.3117 - accuracy: 0.8643\n",
            "Epoch 13: ReduceLROnPlateau reducing learning rate to 0.0002500000118743628.\n",
            "\n",
            "Epoch 13: val_loss did not improve from 0.37015\n",
            "1250/1250 [==============================] - 27s 21ms/step - loss: 0.3116 - accuracy: 0.8643 - val_loss: 0.3877 - val_accuracy: 0.8295 - lr: 5.0000e-04\n",
            "Epoch 14/20\n",
            "1248/1250 [============================>.] - ETA: 0s - loss: 0.2979 - accuracy: 0.8716\n",
            "Epoch 14: val_loss did not improve from 0.37015\n",
            "1250/1250 [==============================] - 27s 21ms/step - loss: 0.2979 - accuracy: 0.8716 - val_loss: 0.3879 - val_accuracy: 0.8273 - lr: 2.5000e-04\n",
            "Epoch 15/20\n",
            "1250/1250 [==============================] - ETA: 0s - loss: 0.2945 - accuracy: 0.8727\n",
            "Epoch 15: val_loss did not improve from 0.37015\n",
            "1250/1250 [==============================] - 29s 23ms/step - loss: 0.2945 - accuracy: 0.8727 - val_loss: 0.3955 - val_accuracy: 0.8236 - lr: 2.5000e-04\n",
            "Epoch 16/20\n",
            "1249/1250 [============================>.] - ETA: 0s - loss: 0.2944 - accuracy: 0.8737\n",
            "Epoch 16: ReduceLROnPlateau reducing learning rate to 0.0001250000059371814.\n",
            "\n",
            "Epoch 16: val_loss did not improve from 0.37015\n",
            "1250/1250 [==============================] - 30s 24ms/step - loss: 0.2944 - accuracy: 0.8737 - val_loss: 0.3939 - val_accuracy: 0.8268 - lr: 2.5000e-04\n",
            "Epoch 17/20\n",
            "1248/1250 [============================>.] - ETA: 0s - loss: 0.2853 - accuracy: 0.8785\n",
            "Epoch 17: val_loss did not improve from 0.37015\n",
            "1250/1250 [==============================] - 27s 22ms/step - loss: 0.2853 - accuracy: 0.8785 - val_loss: 0.3992 - val_accuracy: 0.8267 - lr: 1.2500e-04\n",
            "Epoch 17: early stopping\n"
          ]
        }
      ]
    },
    {
      "cell_type": "code",
      "source": [
        "model.evaluate(test_padd,y_test)"
      ],
      "metadata": {
        "colab": {
          "base_uri": "https://localhost:8080/"
        },
        "id": "VkjJNZRWlW7I",
        "outputId": "bc0f9200-48d6-4fba-98b0-84bb669fc1f6"
      },
      "execution_count": 28,
      "outputs": [
        {
          "output_type": "stream",
          "name": "stdout",
          "text": [
            "313/313 [==============================] - 3s 9ms/step - loss: 0.3992 - accuracy: 0.8267\n"
          ]
        },
        {
          "output_type": "execute_result",
          "data": {
            "text/plain": [
              "[0.3992016017436981, 0.82669997215271]"
            ]
          },
          "metadata": {},
          "execution_count": 28
        }
      ]
    },
    {
      "cell_type": "code",
      "source": [],
      "metadata": {
        "id": "rlzjKTqtlazm"
      },
      "execution_count": null,
      "outputs": []
    }
  ]
}